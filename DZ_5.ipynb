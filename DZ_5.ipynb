{
 "cells": [
  {
   "cell_type": "markdown",
   "metadata": {},
   "source": [
    "### Уровень 0\n",
    "Посчитайте частные производные своими руками и на numpy\n",
    "https://github.com/rtriangle/Netology-course/blob/master/homework-5.ipynb"
   ]
  },
  {
   "cell_type": "markdown",
   "metadata": {},
   "source": [
    "**Задание 1:**\n",
    "Посчитайте частные производные функций (как обычно, необходимо решение на бумажке или в LaTeX и на scipy):\n",
    "\n",
    "1) $f(x,y)=2x^2y^3 + 1/x + y^2x + 7$, а для этой функции также градиент в точке $(1,2)$\n",
    "\n",
    "2) $f(x,y)=x^2y - sin(xy) + cos(x^2) + 6y$"
   ]
  },
  {
   "cell_type": "code",
   "execution_count": 16,
   "metadata": {},
   "outputs": [],
   "source": [
    "import numpy as np\n",
    "from scipy.optimize import approx_fprime\n",
    "import numpy as np\n",
    "import sympy as sy"
   ]
  },
  {
   "cell_type": "code",
   "execution_count": 23,
   "metadata": {},
   "outputs": [],
   "source": [
    "x, y = sy.symbols('x y')"
   ]
  },
  {
   "cell_type": "markdown",
   "metadata": {},
   "source": [
    "1) $f(x,y)=2x^2y^3 + 1/x + y^2x + 7$, а для этой функции также градиент в точке $(1,2)$"
   ]
  },
  {
   "cell_type": "markdown",
   "metadata": {},
   "source": [
    "$f'_x = 4xy^3 - 1/x^2+ y^2 $\n",
    "\n",
    "$f'_y = 6x^2y^2 + 2xy$\n",
    "\n",
    "$f'_x(1,2) = 4*1*2^3 - 1/1^2 + 2^2 = 32 - 1 + 4 = 35$\n",
    "\n",
    "$f'_y(1,2) = 6*1^2*2^2 + 2*1*2 = 24 + 4 = 28$\n",
    "\n",
    "$grad_f(1,2) = (35, 28)$"
   ]
  },
  {
   "cell_type": "code",
   "execution_count": 76,
   "metadata": {},
   "outputs": [
    {
     "data": {
      "text/latex": [
       "$\\displaystyle 4 x y^{3} + y^{2} - \\frac{1}{x^{2}}$"
      ],
      "text/plain": [
       "4*x*y**3 + y**2 - 1/x**2"
      ]
     },
     "execution_count": 76,
     "metadata": {},
     "output_type": "execute_result"
    }
   ],
   "source": [
    "# проивзодная по x\n",
    "x_df1 = sy.diff(2 * x**2 * y**3 + 1/x + y**2 * x + 7, x)\n",
    "x_df1"
   ]
  },
  {
   "cell_type": "code",
   "execution_count": 77,
   "metadata": {},
   "outputs": [
    {
     "data": {
      "text/latex": [
       "$\\displaystyle 6 x^{2} y^{2} + 2 x y$"
      ],
      "text/plain": [
       "6*x**2*y**2 + 2*x*y"
      ]
     },
     "execution_count": 77,
     "metadata": {},
     "output_type": "execute_result"
    }
   ],
   "source": [
    "# проивзодная по y\n",
    "y_df1 = sy.diff(2 * x**2 * y**3 + 1/x + y**2 * x + 7, y)\n",
    "y_df1"
   ]
  },
  {
   "cell_type": "code",
   "execution_count": 71,
   "metadata": {},
   "outputs": [],
   "source": [
    "# в точке \n",
    "dot = np.array([1, 2])"
   ]
  },
  {
   "cell_type": "code",
   "execution_count": 72,
   "metadata": {},
   "outputs": [],
   "source": [
    "def func_dot(dot):\n",
    "    return 2 * dot[0]**2 * dot[1]**3 + 1/dot[0] + (dot[1])**2 * dot[0] + 7"
   ]
  },
  {
   "cell_type": "code",
   "execution_count": 73,
   "metadata": {},
   "outputs": [
    {
     "data": {
      "text/plain": [
       "array([35.00000024, 28.00000024])"
      ]
     },
     "execution_count": 73,
     "metadata": {},
     "output_type": "execute_result"
    }
   ],
   "source": [
    "eps = np.sqrt(np.finfo(float).eps)\n",
    "approx_fprime(dot, func_dot, [eps, eps])"
   ]
  },
  {
   "cell_type": "markdown",
   "metadata": {},
   "source": [
    "2) $f(x,y)=x^2y - sin(xy) + cos(x^2) + 6y$\n",
    "\n",
    "$f'_x = 2xy - y*cos(xy) - 2x*sin(x^2)$\n",
    "\n",
    "$f'_y = x^2 - x*cos(xy) + 6$"
   ]
  },
  {
   "cell_type": "code",
   "execution_count": 78,
   "metadata": {},
   "outputs": [
    {
     "data": {
      "text/latex": [
       "$\\displaystyle 2 x y - 2 x \\sin{\\left(x^{2} \\right)} - y \\cos{\\left(x y \\right)}$"
      ],
      "text/plain": [
       "2*x*y - 2*x*sin(x**2) - y*cos(x*y)"
      ]
     },
     "execution_count": 78,
     "metadata": {},
     "output_type": "execute_result"
    }
   ],
   "source": [
    "# проивзодная по x\n",
    "x_df2 = sy.diff(x ** 2 * y - sy.sin(x * y) + sy.cos(x ** 2) + 6 * y, x)\n",
    "x_df2"
   ]
  },
  {
   "cell_type": "code",
   "execution_count": 79,
   "metadata": {},
   "outputs": [
    {
     "data": {
      "text/latex": [
       "$\\displaystyle x^{2} - x \\cos{\\left(x y \\right)} + 6$"
      ],
      "text/plain": [
       "x**2 - x*cos(x*y) + 6"
      ]
     },
     "execution_count": 79,
     "metadata": {},
     "output_type": "execute_result"
    }
   ],
   "source": [
    "# проивзодная по y\n",
    "y_df2 = sy.diff(x ** 2 * y - sy.sin(x * y) + sy.cos(x ** 2) + 6 * y, y)\n",
    "y_df2"
   ]
  },
  {
   "cell_type": "code",
   "execution_count": null,
   "metadata": {},
   "outputs": [],
   "source": []
  }
 ],
 "metadata": {
  "kernelspec": {
   "display_name": "Python 3",
   "language": "python",
   "name": "python3"
  },
  "language_info": {
   "codemirror_mode": {
    "name": "ipython",
    "version": 3
   },
   "file_extension": ".py",
   "mimetype": "text/x-python",
   "name": "python",
   "nbconvert_exporter": "python",
   "pygments_lexer": "ipython3",
   "version": "3.7.6"
  }
 },
 "nbformat": 4,
 "nbformat_minor": 4
}
